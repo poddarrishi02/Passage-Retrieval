{
 "cells": [
  {
   "cell_type": "code",
   "execution_count": 1,
   "metadata": {},
   "outputs": [],
   "source": [
    "from gensim.models.phrases import Phrases, Phraser\n",
    "def build_phrases(sentences):\n",
    "    phrases = Phrases(sentences,\n",
    "                      min_count=5,\n",
    "                      threshold=7,\n",
    "                      progress_per=1000)\n",
    "                        \n",
    "    return Phraser(phrases)"
   ]
  },
  {
   "cell_type": "code",
   "execution_count": 2,
   "metadata": {},
   "outputs": [
    {
     "ename": "NameError",
     "evalue": "name 'phrases_model' is not defined",
     "output_type": "error",
     "traceback": [
      "\u001b[1;31m---------------------------------------------------------------------------\u001b[0m",
      "\u001b[1;31mNameError\u001b[0m                                 Traceback (most recent call last)",
      "\u001b[1;32md:\\STUDY\\3-2\\Information retrieval\\a2.ipynb Cell 2\u001b[0m in \u001b[0;36m<module>\u001b[1;34m\u001b[0m\n\u001b[1;32m----> <a href='vscode-notebook-cell:/d%3A/STUDY/3-2/Information%20retrieval/a2.ipynb#W1sZmlsZQ%3D%3D?line=0'>1</a>\u001b[0m phrases_model\u001b[39m.\u001b[39msave(\u001b[39m'\u001b[39m\u001b[39mphrases_model.txt\u001b[39m\u001b[39m'\u001b[39m)\n\u001b[0;32m      <a href='vscode-notebook-cell:/d%3A/STUDY/3-2/Information%20retrieval/a2.ipynb#W1sZmlsZQ%3D%3D?line=1'>2</a>\u001b[0m phrases_model\u001b[39m=\u001b[39m Phraser\u001b[39m.\u001b[39mload(\u001b[39m'\u001b[39m\u001b[39mphrases_model.txt\u001b[39m\u001b[39m'\u001b[39m)\n",
      "\u001b[1;31mNameError\u001b[0m: name 'phrases_model' is not defined"
     ]
    }
   ],
   "source": [
    "phrases_model.save('phrases_model.txt')\n",
    "phrases_model= Phraser.load('phrases_model.txt')"
   ]
  },
  {
   "cell_type": "code",
   "execution_count": null,
   "metadata": {},
   "outputs": [],
   "source": [
    "def sentence_to_bi_grams(phrases_model, sentence):\n",
    "    return ' '.join(phrases_model[sentence])"
   ]
  },
  {
   "cell_type": "code",
   "execution_count": null,
   "metadata": {},
   "outputs": [],
   "source": [
    "def sentences_to_bi_grams(n_grams, input_file_name, output_file_name):\n",
    "    with open(input_file_name, 'r') as input_file_pointer:\n",
    "        with open(output_file_name, 'w+') as out_file:\n",
    "            for sentence in get_sentences(input_file_pointer):\n",
    "                cleaned_sentence = clean_sentence(sentence)\n",
    "                tokenized_sentence = tokenize(cleaned_sentence)\n",
    "                parsed_sentence = sentence_to_bi_grams(n_grams, tokenized_sentence)\n",
    "                out_file.write(parsed_sentence + '\\n')\n"
   ]
  }
 ],
 "metadata": {
  "kernelspec": {
   "display_name": "Python 3",
   "language": "python",
   "name": "python3"
  },
  "language_info": {
   "codemirror_mode": {
    "name": "ipython",
    "version": 3
   },
   "file_extension": ".py",
   "mimetype": "text/x-python",
   "name": "python",
   "nbconvert_exporter": "python",
   "pygments_lexer": "ipython3",
   "version": "3.10.2"
  },
  "orig_nbformat": 4,
  "vscode": {
   "interpreter": {
    "hash": "837b47d0de25b4ebc59577573e15b7e051a842ab02243e6727c54393b6e9d077"
   }
  }
 },
 "nbformat": 4,
 "nbformat_minor": 2
}
